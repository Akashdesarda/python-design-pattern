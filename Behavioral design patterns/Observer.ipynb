{
 "cells": [
  {
   "cell_type": "markdown",
   "metadata": {},
   "source": [
    "# Observer or Pub-Sub Pattern\n",
    "---"
   ]
  },
  {
   "cell_type": "markdown",
   "metadata": {},
   "source": [
    "## What it is?\n",
    "\n",
    "- Observer is a `behavioral design pattern` that allows some objects to notify other objects about changes in their state.\n",
    "- Its provides a way to `subscribe` and `unsubscribe` to and from these notifications.\n",
    "- So that, when an object changes its state, all the objects that depend on it are `notified` and `updated` automatically.\n",
    "- This way the workload can be democratized between all the subscribers. This will improve the performance & efficiency of the system."
   ]
  },
  {
   "cell_type": "markdown",
   "metadata": {},
   "source": [
    "## Explanation\n",
    "\n",
    "**`ELI5 Example`:** Imagine you are watching a cricket match. Instead of directly checking the live score repeatedly, you subscribe to a cricket score app on your phone. Now, whenever the score changes, the app sends you a notification. This way, you get updates automatically without constantly checking the score.\n",
    "\n",
    "This is what the Observer pattern does: it lets multiple objects (observers) subscribe to another object (subject) so that whenever the subject's state changes, all the observers are notified automatically.\n",
    "\n",
    "**`Technical Explanation`:** You have a `Subject` or `Publisher` class that maintains a list of observers in an queue. The `Subject` class has methods to `subscribe` and `unsubscribe` observers. It also has a method to `notify` all the observers when its state changes. Once the observer is notified, it can `pull` the updated data from the subject and process it."
   ]
  },
  {
   "cell_type": "code",
   "execution_count": 2,
   "metadata": {},
   "outputs": [],
   "source": [
    "# Implementation of Observer Pattern using Asyncio in Python\n",
    "\n",
    "from dataclasses import dataclass\n",
    "from asyncio import Queue, Lock, sleep, create_task\n",
    "from typing import Any\n",
    "\n",
    "@dataclass\n",
    "class Publisher:\n",
    "\n",
    "    def __post_init__(self):\n",
    "        self._queue = Queue()\n",
    "        self._lock = Lock()\n",
    "\n",
    "    async def publish(self, data: Any):\n",
    "        await self._queue.put(data)\n",
    "\n",
    "    async def subscribe(self, sub_id: int):\n",
    "        while True:\n",
    "            data = await self._queue.get()\n",
    "            async with self._lock:\n",
    "                print(f\"Subscriber {sub_id} received: {data}\")\n",
    "                await sleep(1)\n",
    "                print(f\"Subscriber {sub_id} processed: {data}\")\n",
    "                self._queue.task_done()\n"
   ]
  },
  {
   "cell_type": "code",
   "execution_count": null,
   "metadata": {},
   "outputs": [
    {
     "data": {
      "text/plain": [
       "<Task pending name='Task-8' coro=<Publisher.subscribe() running at C:\\Users\\desar\\AppData\\Local\\Temp\\ipykernel_26248\\2921365266.py:17>>"
      ]
     },
     "execution_count": 3,
     "metadata": {},
     "output_type": "execute_result"
    },
    {
     "name": "stdout",
     "output_type": "stream",
     "text": [
      "Subscriber 1 received: Event 0\n",
      "Subscriber 1 processed: Event 0\n",
      "Subscriber 2 received: Event 1\n",
      "Subscriber 2 processed: Event 1\n",
      "Subscriber 3 received: Event 2\n",
      "Subscriber 3 processed: Event 2\n",
      "Subscriber 4 received: Event 3\n",
      "Subscriber 4 processed: Event 3\n",
      "Subscriber 1 received: Event 4\n",
      "Subscriber 1 processed: Event 4\n",
      "Subscriber 2 received: Event 0\n",
      "Subscriber 2 processed: Event 0\n",
      "Subscriber 3 received: Event 1\n",
      "Subscriber 3 processed: Event 1\n",
      "Subscriber 4 received: Event 2\n",
      "Subscriber 4 processed: Event 2\n",
      "Subscriber 1 received: Event 3\n",
      "Subscriber 1 processed: Event 3\n",
      "Subscriber 2 received: Event 4\n",
      "Subscriber 2 processed: Event 4\n"
     ]
    }
   ],
   "source": [
    "pub = Publisher()\n",
    "\n",
    "create_task(pub.subscribe(1))\n",
    "create_task(pub.subscribe(2))\n",
    "create_task(pub.subscribe(3))\n",
    "create_task(pub.subscribe(4))\n"
   ]
  },
  {
   "cell_type": "code",
   "execution_count": 6,
   "metadata": {},
   "outputs": [],
   "source": [
    "# Publish events\n",
    "for i in range(5):\n",
    "    await pub.publish(f\"Event {i}\")\n",
    "    await sleep(0.5)\n",
    "\n",
    "# Wait for all events to be processed\n",
    "await pub._queue.join()"
   ]
  },
  {
   "cell_type": "markdown",
   "metadata": {},
   "source": [
    "## Key Takeaways:\n",
    "\n",
    "- This design pattern is nicely suited for `event handling systems`, `distributed systems`, `message brokers`, etc.\n",
    "- It helps in `reducing coupling` between the objects.\n",
    "- It help in efficiencies since subscribers compete with each other to process the data.\n",
    "- It can be combined with Event driven autoscaling, where the autoscaler can scale subscribers based on the number of events. [`KEDA`](https://keda.sh) is a good example of this.  "
   ]
  }
 ],
 "metadata": {
  "kernelspec": {
   "display_name": "base",
   "language": "python",
   "name": "python3"
  },
  "language_info": {
   "codemirror_mode": {
    "name": "ipython",
    "version": 3
   },
   "file_extension": ".py",
   "mimetype": "text/x-python",
   "name": "python",
   "nbconvert_exporter": "python",
   "pygments_lexer": "ipython3",
   "version": "3.13.1"
  }
 },
 "nbformat": 4,
 "nbformat_minor": 2
}
