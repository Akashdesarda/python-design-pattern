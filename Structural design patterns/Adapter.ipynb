{
 "cells": [
  {
   "cell_type": "markdown",
   "metadata": {},
   "source": [
    "# Adapter Design Pattern\n",
    "---"
   ]
  },
  {
   "cell_type": "markdown",
   "metadata": {},
   "source": [
    "# What it is?\n",
    "\n",
    "- The Adapter Design Pattern is a `Structural design pattern` that allows objects with incompatible interfaces to collaborate.\n",
    "- It acts as a bridge between two incompatible interfaces.\n",
    "- We can use it to make two incompatible APIs to work together.\n",
    "- It is one of the most frequently used & with wide range of variations."
   ]
  },
  {
   "cell_type": "markdown",
   "metadata": {},
   "source": [
    "## Explanation\n",
    "\n",
    "**`ELI5 Example`:** Imagine you have a phone charger with a plug that works in India, but you're traveling to the USA, where the electrical outlets are different. You can't directly use your charger because it doesn't fit the American outlets. What do you do? You use a power adapter, which takes your Indian charger and \"adapts\" it so it fits into the USA outlets, enabling you to charge your phone. Problem solved!\n",
    "\n",
    "The Adapter pattern works exactly like this in programming. It's used when you have two systems (or objects) that are incompatible with each other, and you need to make them work together. The Adapter acts as a bridge, converting one system's interface to match the other.\n",
    "\n",
    "**`Technical Explanation`:** Lets say you building data processing ETL pipeline, where you have data coming from different sources like CSV, JSON, XML, etc. Each source has its own way of reading data. You can create an adapter for each source, which will convert the data from the source to a common format that can be processed by the pipeline.\n"
   ]
  },
  {
   "cell_type": "code",
   "execution_count": 1,
   "metadata": {},
   "outputs": [],
   "source": [
    "import polars as pl"
   ]
  },
  {
   "cell_type": "code",
   "execution_count": null,
   "metadata": {},
   "outputs": [],
   "source": []
  }
 ],
 "metadata": {
  "kernelspec": {
   "display_name": "base",
   "language": "python",
   "name": "python3"
  },
  "language_info": {
   "codemirror_mode": {
    "name": "ipython",
    "version": 3
   },
   "file_extension": ".py",
   "mimetype": "text/x-python",
   "name": "python",
   "nbconvert_exporter": "python",
   "pygments_lexer": "ipython3",
   "version": "3.13.1"
  }
 },
 "nbformat": 4,
 "nbformat_minor": 2
}
