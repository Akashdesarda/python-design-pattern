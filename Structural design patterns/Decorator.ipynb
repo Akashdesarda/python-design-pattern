{
 "cells": [
  {
   "cell_type": "markdown",
   "metadata": {},
   "source": [
    "# Decorator Design Pattern\n",
    "---"
   ]
  },
  {
   "cell_type": "markdown",
   "metadata": {},
   "source": [
    "## What it is?\n",
    "\n",
    "- The Decorator Design Pattern is a `Structural design pattern` that lets you attach new behaviors to objects by placing these objects inside special wrapper objects that contain the behaviors.\n",
    "- It allows you to add new functionality to existing objects. The object can worked without it too, but with the new functionality, it can be more useful.\n",
    "- This allows as to improve the functionality of the object with much tinkering with the original object.\n",
    "- Its one of the most widely used design patterns in the Python world."
   ]
  },
  {
   "cell_type": "markdown",
   "metadata": {},
   "source": [
    "## Explanation\n",
    "\n",
    "**`ELI5 example`:** Imagine you're ordering an ice cream. You start with a plain scoop of vanilla ice cream, but then you want to customize it. You add chocolate syrup, sprinkles, and maybe even some whipped cream. Each topping \"decorates\" the ice cream, adding something new without changing the original vanilla scoop itself.\n",
    "\n",
    "That's exactly how the Decorator pattern works in programming! It allows you to add functionality to an object, step by step, without modifying the object's original structure. You \"wrap\" the object in layers (decorators), and each layer adds something new.\n",
    "\n",
    "**`Technical example`:** Let's say you have a `Text` class that can generate plain text. You want to add some formatting options, like bold or italic text. You could create a `BoldText` class that wraps the `Text` object and adds the bold formatting. Then you could create an `ItalicText` class that wraps the `BoldText` object and adds the italic formatting. You can keep adding new decorators to create different combinations of formatting options."
   ]
  },
  {
   "cell_type": "code",
   "execution_count": 1,
   "metadata": {},
   "outputs": [
    {
     "name": "stdout",
     "output_type": "stream",
     "text": [
      "LOG: Input data: [1, 2, 3, 4]\n",
      "LOG: Output data: [2, 4, 6, 8]\n",
      "Final processed data: [2, 4, 6, 8]\n"
     ]
    }
   ],
   "source": [
    "# Core processing function\n",
    "def process_data(data):\n",
    "    # Simulate data processing\n",
    "    return [item * 2 for item in data]\n",
    "\n",
    "# Decorator to log the input and output of a pipeline step\n",
    "def log_step(process_function):\n",
    "    def wrapper(data):\n",
    "        print(f\"LOG: Input data: {data}\")\n",
    "        result = process_function(data)\n",
    "        print(f\"LOG: Output data: {result}\")\n",
    "        return result\n",
    "    return wrapper\n",
    "\n",
    "# Decorator to validate the input data\n",
    "def validate_data(process_function):\n",
    "    def wrapper(data):\n",
    "        if not all(isinstance(item, (int, float)) for item in data):\n",
    "            raise ValueError(\"All items in the data must be numbers!\")\n",
    "        return process_function(data)\n",
    "    return wrapper\n",
    "\n",
    "# Applying decorators to the pipeline function\n",
    "@log_step\n",
    "@validate_data\n",
    "def pipeline(data):\n",
    "    return process_data(data)\n",
    "\n",
    "# Simulated data pipeline execution\n",
    "try:\n",
    "    raw_data = [1, 2, 3, 4]  # Valid input\n",
    "    processed_data = pipeline(raw_data)\n",
    "    print(f\"Final processed data: {processed_data}\")\n",
    "    \n",
    "    # Uncomment the next line to see validation failure\n",
    "    # invalid_data = [1, \"two\", 3]\n",
    "    # pipeline(invalid_data)\n",
    "except ValueError as e:\n",
    "    print(f\"Validation Error: {e}\")\n"
   ]
  },
  {
   "cell_type": "markdown",
   "metadata": {},
   "source": [
    "## Key Takeaways:\n",
    "\n",
    "- It really shines when you want to add new functionality to 3rd party classes that you can't modify.\n",
    "- It can be better than subclassing because it allows you to add functionality to individual objects, not just entire classes.\n",
    "- If used creatively, you can combine multiple decorators to create complex behaviors.\n",
    "- But if done carelessly, you can end up with a tangled mess of decorators that are hard to manage."
   ]
  },
  {
   "cell_type": "markdown",
   "metadata": {},
   "source": []
  }
 ],
 "metadata": {
  "kernelspec": {
   "display_name": "base",
   "language": "python",
   "name": "python3"
  },
  "language_info": {
   "codemirror_mode": {
    "name": "ipython",
    "version": 3
   },
   "file_extension": ".py",
   "mimetype": "text/x-python",
   "name": "python",
   "nbconvert_exporter": "python",
   "pygments_lexer": "ipython3",
   "version": "3.13.1"
  }
 },
 "nbformat": 4,
 "nbformat_minor": 2
}
