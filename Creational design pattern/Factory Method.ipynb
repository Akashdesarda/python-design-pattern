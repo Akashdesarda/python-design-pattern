{
 "cells": [
  {
   "cell_type": "markdown",
   "metadata": {},
   "source": [
    "# Factory Method Pattern\n",
    "---"
   ]
  },
  {
   "cell_type": "markdown",
   "metadata": {},
   "source": [
    "## What it is?\n",
    "\n",
    "- Its a `Creational pattern` that defines an interface or a way to create objects but also lets the subclasses decide to alter the type of objects that will be created.\n",
    "- It provides a way to delegate the creation & usage of objects at different locations.\n",
    "- So the now the subclasses has power to decide the type of objects that will be created."
   ]
  },
  {
   "cell_type": "markdown",
   "metadata": {},
   "source": [
    "## Explanation\n",
    "\n",
    "**`ELI5 Example`:** Imagine you own a toy factory that makes different types of toys: cars, dolls, and robots. Instead of directly creating each toy in your code, you have a special machine (Factory) that can create toys for you. This machine decides which type of toy to create based on some input.\n",
    "\n",
    "**`Technical Example`:** The Factory Method pattern helps you create objects without specifying the exact class of object that will be created. Instead, you define an interface for creating an object, but let subclasses decide which class to instantiate. This way, the creation logic is encapsulated in a method in the factory class."
   ]
  },
  {
   "cell_type": "code",
   "execution_count": null,
   "metadata": {},
   "outputs": [],
   "source": [
    "from abc import ABC, abstractmethod\n",
    "from pathlib import Path\n",
    "\n",
    "\n",
    "# creating base class for Video & Audio export which will be used as interface.\n",
    "# This are also know as Products, since eventually they will eventually become usable objects\n",
    "class VideoExporter(ABC):\n",
    "    \"\"\"Base class interface for Video Exporter\"\"\"\n",
    "\n",
    "    @abstractmethod\n",
    "    def prepare_export(self, video):\n",
    "        pass\n",
    "\n",
    "    @abstractmethod\n",
    "    def export(self, path: Path):\n",
    "        pass\n",
    "\n",
    "\n",
    "class AudioExporter(ABC):\n",
    "    \"\"\"Base class interface for Audio Exporter\"\"\"\n",
    "\n",
    "    @abstractmethod\n",
    "    def prepare_export(self, audio):\n",
    "        pass\n",
    "\n",
    "    @abstractmethod\n",
    "    def export(self, path: Path):\n",
    "        pass"
   ]
  },
  {
   "cell_type": "code",
   "execution_count": null,
   "metadata": {},
   "outputs": [],
   "source": [
    "# Creating various variations of exporters\n",
    "# This are also called `Concrete creator` since they are creating real usable object based on Product\n",
    "\n",
    "from pathlib import Path\n",
    "\n",
    "\n",
    "# Video\n",
    "class LowResolutionVideoExporter(VideoExporter):\n",
    "    def prepare_export(self, video):\n",
    "        print(\"preparing video export using low resolution config\")\n",
    "\n",
    "    def export(self, path: Path):\n",
    "        print(f\"exporting to {path}\")\n",
    "\n",
    "\n",
    "class MediumResolutionVideoExporter(VideoExporter):\n",
    "    def prepare_export(self, video):\n",
    "        print(\"preparing video export using medium resolution config\")\n",
    "\n",
    "    def export(self, path: Path):\n",
    "        print(f\"exporting to {path}\")\n",
    "\n",
    "\n",
    "class HighResolutionVideoExporter(VideoExporter):\n",
    "    def prepare_export(self, video):\n",
    "        print(\"preparing video export using high resolution config\")\n",
    "\n",
    "    def export(self, path: Path):\n",
    "        print(f\"exporting to {path}\")\n",
    "\n",
    "\n",
    "# Audio\n",
    "class LowResolutionAudioExporter(AudioExporter):\n",
    "    def prepare_export(self, audio):\n",
    "        print(\"preparing audio export using low resolution config\")\n",
    "\n",
    "    def export(self, path: Path):\n",
    "        print(f\"exporting to {path}\")\n",
    "\n",
    "\n",
    "class MediumResolutionAudioExporter(AudioExporter):\n",
    "    def prepare_export(self, audio):\n",
    "        print(\"preparing audio export using medium resolution config\")\n",
    "\n",
    "    def export(self, path: Path):\n",
    "        print(f\"exporting to {path}\")\n",
    "\n",
    "\n",
    "class HighResolutionAudioExporter(AudioExporter):\n",
    "    def prepare_export(self, audio):\n",
    "        print(\"preparing audio export using high resolution config\")\n",
    "\n",
    "    def export(self, path: Path):\n",
    "        print(f\"exporting to {path}\")"
   ]
  },
  {
   "cell_type": "code",
   "execution_count": null,
   "metadata": {},
   "outputs": [],
   "source": [
    "# Factory Base class\n",
    "class ExporterFactory(ABC):\n",
    "    @abstractmethod\n",
    "    def get_video_exporter(self) -> VideoExporter:\n",
    "        pass\n",
    "\n",
    "    @abstractmethod\n",
    "    def get_audio_exporter(self) -> AudioExporter:\n",
    "        pass\n",
    "\n",
    "\n",
    "# All desired export variation\n",
    "class FastExporter(ExporterFactory):\n",
    "    \"\"\"Factory aimed at providing a high speed, lower quality export.\"\"\"\n",
    "\n",
    "    def get_video_exporter(self) -> VideoExporter:\n",
    "        return LowResolutionVideoExporter()\n",
    "\n",
    "    def get_audio_exporter(self) -> AudioExporter:\n",
    "        return LowResolutionAudioExporter()\n",
    "\n",
    "\n",
    "class MediumQualityExporter(ExporterFactory):\n",
    "    \"\"\"Factory aimed at providing a slower speed, high quality export.\"\"\"\n",
    "\n",
    "    def get_video_exporter(self) -> VideoExporter:\n",
    "        return MediumResolutionVideoExporter()\n",
    "\n",
    "    def get_audio_exporter(self) -> AudioExporter:\n",
    "        return MediumResolutionAudioExporter()\n",
    "\n",
    "\n",
    "class HighQualityExporter(ExporterFactory):\n",
    "    \"\"\"Factory aimed at providing a low speed, master quality export.\"\"\"\n",
    "\n",
    "    def get_video_exporter(self) -> VideoExporter:\n",
    "        return HighResolutionVideoExporter()\n",
    "\n",
    "    def get_audio_exporter(self) -> AudioExporter:\n",
    "        return HighResolutionAudioExporter()\n"
   ]
  },
  {
   "cell_type": "code",
   "execution_count": 21,
   "metadata": {},
   "outputs": [
    {
     "name": "stdout",
     "output_type": "stream",
     "text": [
      "preparing video export using medium resolution config\n",
      "exporting to C:\\Users\\desar\\projects\\learning\\python-design-pattern\\Creational design pattern\n",
      "preparing audio export using medium resolution config\n",
      "exporting to C:\\Users\\desar\\projects\\learning\\python-design-pattern\\Creational design pattern\n"
     ]
    }
   ],
   "source": [
    "# Client code\n",
    "factories = {\n",
    "    \"low\": FastExporter(),\n",
    "    \"medium\": MediumQualityExporter(),\n",
    "    \"high\": HighQualityExporter(),\n",
    "}\n",
    "\n",
    "FACTORY = \"medium\"\n",
    "exp_fac = factories[FACTORY]\n",
    "video_export = exp_fac.get_video_exporter()\n",
    "audio_export = exp_fac.get_audio_exporter()\n",
    "\n",
    "video_export.prepare_export(\"placeholder\")\n",
    "video_export.export(Path(\".\").resolve())\n",
    "audio_export.prepare_export(\"placeholder\")\n",
    "audio_export.export(Path(\".\").resolve())"
   ]
  },
  {
   "cell_type": "markdown",
   "metadata": {},
   "source": [
    "## Key takeaways\n",
    "\n",
    "- Its provides a good structural design for creating objects. Since creation & usage of objects are separated.\n",
    "- It improves the code maintainability & scalability.\n",
    "- But it is kind of obsolete in modern python. \n",
    "  - Python supports callables as parameters, so you can pass a function to a class to create objects.\n",
    "  - This result in less boilerplate code which involves more classes & interfaces.\n",
    "  - We can should instead refer it as `Factory Callable` instead of `Factory Method`."
   ]
  },
  {
   "cell_type": "markdown",
   "metadata": {},
   "source": []
  }
 ],
 "metadata": {
  "kernelspec": {
   "display_name": "base",
   "language": "python",
   "name": "python3"
  },
  "language_info": {
   "codemirror_mode": {
    "name": "ipython",
    "version": 3
   },
   "file_extension": ".py",
   "mimetype": "text/x-python",
   "name": "python",
   "nbconvert_exporter": "python",
   "pygments_lexer": "ipython3",
   "version": "3.13.1"
  }
 },
 "nbformat": 4,
 "nbformat_minor": 2
}
