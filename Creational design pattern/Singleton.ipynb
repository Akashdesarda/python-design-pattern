{
 "cells": [
  {
   "cell_type": "markdown",
   "metadata": {},
   "source": [
    "# Singleton design pattern\n",
    "---"
   ]
  },
  {
   "cell_type": "markdown",
   "metadata": {},
   "source": [
    "## What it is?\n",
    "\n",
    "- It is a **`Creational design pattern`**.\n",
    "- It is used when we want to ensure that a **class has only one instance** and provide a **global point of access** to that instance.\n",
    "- It is used when we want to share the **same instance** of a class among multiple clients.\n",
    "- So to summarize, it ensures that a class has only one instance. Even if we create multiple objects of that class, it will use the same instance."
   ]
  },
  {
   "cell_type": "markdown",
   "metadata": {},
   "source": [
    "## Explanation:\n",
    "\n",
    "**`ELI5 example`:** Imagine you have a cookie jar in your kitchen, and no matter how many times you go to get a cookie, you always end up taking it from the same jar. You can't create another jar or get cookies from somewhere else; it's always that one jar.\n",
    "\n",
    "The Singleton design pattern is like that cookie jar. It ensures that a class has only one instance and provides a global point of access to it. This can be useful when you need exactly one object to coordinate actions across the system, like a database connection or a configuration manager.\n",
    "\n",
    "**`Technical example`:** Let's say you have a class called `DatabaseConnection` that connects to a database. You want to ensure that there is only one connection to the database throughout your application. You can use the Singleton pattern to achieve this."
   ]
  },
  {
   "cell_type": "code",
   "execution_count": null,
   "metadata": {},
   "outputs": [
    {
     "name": "stdout",
     "output_type": "stream",
     "text": [
      "True\n"
     ]
    }
   ],
   "source": [
    "# Code Example\n",
    "\n",
    "\n",
    "from typing import Self, ClassVar\n",
    "\n",
    "\n",
    "class Singleton:\n",
    "    _instance: ClassVar = None  # Class attribute to hold the single instance\n",
    "\n",
    "    def __new__(cls, *args, **kwargs) -> Self:\n",
    "        if not cls._instance:\n",
    "            cls._instance = super(Singleton, cls).__new__(cls, *args, **kwargs)\n",
    "        return cls._instance\n",
    "\n",
    "\n",
    "# Usage\n",
    "singleton1 = Singleton()\n",
    "singleton2 = Singleton()\n",
    "\n",
    "print(\n",
    "    singleton1 is singleton2\n",
    ")  # This will print True, proving that both variables point to the same instance.\n"
   ]
  },
  {
   "cell_type": "code",
   "execution_count": 1,
   "metadata": {},
   "outputs": [],
   "source": [
    "from typing import Self, ClassVar\n",
    "\n",
    "class Singleton:\n",
    "    # creating private class attribute to hold class instance\n",
    "    _self_instance: ClassVar = None\n",
    "\n",
    "    # __new__ is special method of python which allows to to create instance of class\n",
    "    # here we are hacking our way to override creation of new instance to check if there is already\n",
    "    # an instance present. If not then we then create one\n",
    "    def __new__(cls, *args, **kwargs) -> Self:\n",
    "        if cls._self_instance is None:\n",
    "            cls._self_instance = super(Singleton, cls).__new__(cls, *args, **kwargs)\n",
    "        return cls._self_instance"
   ]
  },
  {
   "cell_type": "code",
   "execution_count": 5,
   "metadata": {},
   "outputs": [
    {
     "data": {
      "text/plain": [
       "True"
      ]
     },
     "execution_count": 5,
     "metadata": {},
     "output_type": "execute_result"
    }
   ],
   "source": [
    "s1 = Singleton()\n",
    "s2 = Singleton()\n",
    "\n",
    "s1 == s2"
   ]
  },
  {
   "cell_type": "markdown",
   "metadata": {},
   "source": [
    "## Important points\n",
    "\n",
    "- **Discourage to used in python**\n",
    "\n",
    "  - `Modules`: Python uses concept of modules. Any function or class is imported once & cached. So every next time requested usage will be same instance. So modules are singleton by design.\n",
    "  - `Difficult to test`: Since all objects share the same instance, it becomes difficult to test the class in isolation.\n",
    "  - `Difficult to read`: It can be difficult to understand the code if the Singleton pattern is used excessively.\n",
    "\n",
    "- **Use cases**\n",
    "\n",
    "  - `Database connections`: When you want to ensure that there is only one connection to the database throughout your application.\n",
    "  - `Configuration settings`: When you want to ensure that there is only one instance of the configuration settings throughout your application.\n",
    "\n",
    "- There are better alternatives to Singleton pattern in Python. Use those alternatives instead of Singleton pattern."
   ]
  },
  {
   "cell_type": "markdown",
   "metadata": {},
   "source": []
  }
 ],
 "metadata": {
  "kernelspec": {
   "display_name": "base",
   "language": "python",
   "name": "python3"
  },
  "language_info": {
   "codemirror_mode": {
    "name": "ipython",
    "version": 3
   },
   "file_extension": ".py",
   "mimetype": "text/x-python",
   "name": "python",
   "nbconvert_exporter": "python",
   "pygments_lexer": "ipython3",
   "version": "3.13.1"
  }
 },
 "nbformat": 4,
 "nbformat_minor": 2
}
