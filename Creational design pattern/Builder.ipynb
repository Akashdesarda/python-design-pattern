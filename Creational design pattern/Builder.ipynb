{
 "cells": [
  {
   "cell_type": "markdown",
   "metadata": {},
   "source": [
    "# Builder Design Pattern\n",
    "---"
   ]
  },
  {
   "cell_type": "markdown",
   "metadata": {},
   "source": [
    "## What it is?\n",
    "\n",
    "- The Builder Design Pattern is a `Creational design pattern` that lets you construct complex objects step by step.\n",
    "- It allows the client code to pick & choose the parts they want to build the object, just like an modular approach.\n",
    "- It makes the code more clean to read and maintain.\n",
    "- One of best side benefit of this pattern is that it allows method chaining."
   ]
  },
  {
   "cell_type": "markdown",
   "metadata": {},
   "source": [
    "## Explanation\n",
    "\n",
    "**`ELI5 Example`:** Imagine you have a big box of LEGOs, and you want to build a cool spaceship. Instead of dumping all the pieces together at once, you follow a series of easy, step-by-step instructions: first, you build the engine, then the cockpit, and finally, you attach the wings. Each step adds a part to your spaceship until you have one awesome complete creation.\n",
    "\n",
    "This is basically what the Builder design pattern does. It helps you construct a complex object piece by piece, rather than trying to create the whole thing in one giant step. You have a \"builder\" that knows how to add each part (or configuration) in the right order, and once you're done, you get your final product.\n",
    "\n",
    "**`Technical Example`:** PySpark uses this pattern very heavily, especially in SparkSession  & DataFrame API. It allows you to create customized SparkSession by choosing the configuration you want. It allows you to create a DataFrame by chaining multiple methods together. "
   ]
  },
  {
   "cell_type": "code",
   "execution_count": 4,
   "metadata": {},
   "outputs": [
    {
     "name": "stdout",
     "output_type": "stream",
     "text": [
      "Pizza with thin crust, tomato sauce, and toppings: cheese, pepperoni\n"
     ]
    }
   ],
   "source": [
    "# The complex object we want to build\n",
    "class Pizza:\n",
    "    def __init__(self):\n",
    "        self.crust = None\n",
    "        self.sauce = None\n",
    "        self.toppings = []\n",
    "\n",
    "    def __str__(self):\n",
    "        return f\"Pizza with {self.crust} crust, {self.sauce} sauce, and toppings: {', '.join(self.toppings)}\"\n",
    "\n",
    "\n",
    "# The Builder: builds the Pizza step by step\n",
    "class PizzaBuilder:\n",
    "    def __init__(self):\n",
    "        self.pizza = Pizza()\n",
    "\n",
    "    def set_crust(self, crust):\n",
    "        self.pizza.crust = crust\n",
    "        return self  # allows chaining\n",
    "\n",
    "    def add_sauce(self, sauce):\n",
    "        self.pizza.sauce = sauce\n",
    "        return self\n",
    "\n",
    "    def add_topping(self, topping):\n",
    "        self.pizza.toppings.append(topping)\n",
    "        return self\n",
    "\n",
    "    def build(self):\n",
    "        return self.pizza # returns the final product\n",
    "\n",
    "\n",
    "# Usage: Building a pizza step by step\n",
    "builder = PizzaBuilder()\n",
    "pizza = (\n",
    "    builder.set_crust(\"thin\")\n",
    "    .add_sauce(\"tomato\")\n",
    "    .add_topping(\"cheese\")\n",
    "    .add_topping(\"pepperoni\")\n",
    "    .build()\n",
    ")\n",
    "\n",
    "print(pizza)\n"
   ]
  },
  {
   "cell_type": "markdown",
   "metadata": {},
   "source": [
    "## Key Takeaways:\n",
    "\n",
    "- The Builder pattern is a good choice when designing classes has too `many parameters` to initialize. \n",
    "- It makes the code more readable and maintainable as it allows you to build the object step by step which represents actual `real world behavior`.\n",
    "- It allows you to create `different configurations` of an object by using the same construction code.\n",
    "- It promotes the `Single Responsibility Principle` by separating the construction process from the representation."
   ]
  },
  {
   "cell_type": "markdown",
   "metadata": {},
   "source": []
  }
 ],
 "metadata": {
  "kernelspec": {
   "display_name": "base",
   "language": "python",
   "name": "python3"
  },
  "language_info": {
   "codemirror_mode": {
    "name": "ipython",
    "version": 3
   },
   "file_extension": ".py",
   "mimetype": "text/x-python",
   "name": "python",
   "nbconvert_exporter": "python",
   "pygments_lexer": "ipython3",
   "version": "3.13.1"
  }
 },
 "nbformat": 4,
 "nbformat_minor": 2
}
